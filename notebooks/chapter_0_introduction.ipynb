{
 "cells": [
  {
   "cell_type": "markdown",
   "metadata": {},
   "source": [
    "Patrick Gray (patrick.c.gray at duke) - https://github.com/patrickcgray\n",
    "\n",
    "Adapted from https://github.com/ceholden/open-geo-tutorial\n",
    "\n",
    "Introduction\n",
    "============\n",
    "\n",
    "Tutorial of basic remote sensing and GIS methodologies using the open source python geospatial ecosystem"
   ]
  },
  {
   "cell_type": "markdown",
   "metadata": {},
   "source": [
    "## Chapters\n",
    "1. [Exploring the rasterio package for image analysis](chapter_1_rasterio.ipynb)\n",
    "2. [Your first remote sensing vegetation index](chapter_2_indices.ipynb)\n",
    "3. [Plotting and visualizing your data with `matplotlib`](chapter_3_visualization.ipynb)\n",
    "4. [Importing and using vector data](chapter_4_vector.ipynb)\n",
    "5. [Classification of land cover](chapter_5_classification.ipynb)\n",
    "6. [The spatial dimension - filters and segmentation](chapter_6_spatial.ipynb)"
   ]
  },
  {
   "cell_type": "markdown",
   "metadata": {},
   "source": [
    "## A Modern Geospatial Workflow in Python\n",
    "\n",
    "What kind of python libraries make up a modern geospatial workflow? This is just a sample of what we consider to be the basic building blocks and what will be covered here:\n",
    "\n",
    "- `shapely` for geometric analysis\n",
    "- `fiona` for reading in vector formats\n",
    "- `rasterio` for reading in and working with raster formats\n",
    "- `GeoPandas` to extend `pandas` to work with geo formats\n",
    "- `numpy` and the python scientific computing stack for efficient computation\n",
    "- `matplotlib` for general plotting and visualization\n",
    "- `folium` for advanced and interactive plotting\n",
    "- `scikit-learn` for machine learning based data exploration, classification, and regression"
   ]
  },
  {
   "cell_type": "markdown",
   "metadata": {},
   "source": [
    "## Why Python?\n",
    "- Python is an actual programming language with a large standard library\n",
    "    - tools for file manipulation, command line argument parsing, and web access and parsing already exist and are robust\n",
    "    - Python already widely used in other scientific communities and outside of science for web servers, desktop applications, and server management\n",
    "    \n",
    "- Scientific Python provides very well documented and easy to use interfaces to pre-existing numeric methods\n",
    "    - Linear alebgra, classification routines, regression methods, and more have been published for decades as Fortran or C codes\n",
    "    - Libraries such as SciPy, NumPy, and SciKits wrap and extend these pre-existing codes in an easy to use package\n",
    "    - Strong machine learning and deep learning packages like keras and scikit-learn\n",
    "    \n",
    "- Large community with innumerable examples on blogs, StackOverflow, Github, etc.\n",
    "\n",
    "- Develop Python plugins for QGIS\n",
    "\n",
    "- Script analyses in QGIS or ArcMap\n",
    "\n",
    "- Open-source!!!"
   ]
  },
  {
   "cell_type": "markdown",
   "metadata": {},
   "source": [
    "## Other resources\n",
    "There are many resources for doing remote sensing and GIS with Python on the web, but here are some of the better ones:\n",
    "- [Intro to Python Geoprocessing Course from CSC Finland](https://automating-gis-processes.github.io/2018/)\n",
    "- [Planet Lab's jupyter notebooks](https://github.com/planetlabs/notebooks/tree/master/jupyter-notebooks)\n",
    "- [Google Earth Engine's tutorial resources](https://developers.google.com/earth-engine/edu)\n",
    "- [almost comprehensive list of python geospatial tools](https://github.com/sacridini/Awesome-Geospatial#python)\n",
    "- [Earth Observation data on Amazon AWS](https://aws.amazon.com/earth/)"
   ]
  },
  {
   "cell_type": "markdown",
   "metadata": {},
   "source": [
    "#### Note on Python 2 vs Python 3\n",
    "\n",
    "This tutorial will try to target Python 3.5 and greater. To ensure you're using a compatible version of Python, you can run the following:"
   ]
  },
  {
   "cell_type": "code",
   "execution_count": 1,
   "metadata": {},
   "outputs": [
    {
     "name": "stdout",
     "output_type": "stream",
     "text": [
      "Python 3.8.10\n"
     ]
    }
   ],
   "source": [
    "! python --version"
   ]
  },
  {
   "cell_type": "markdown",
   "metadata": {},
   "source": [
    "at the command line.\n",
    "\n",
    "Python 3 has many great new features (more informative stack traces, better unicode handling, `asyncio`, matrix algebra notation using `@`, and more) and is the future of the language. Unfortunately, some scientific packages (QGIS, for example) have not yet completed the transition away from Python 2. Unless you have good reason to use Python 2 (like if you're writing a QGIS plugin in Python), the general concensus is to recommend using Python 3."
   ]
  },
  {
   "cell_type": "markdown",
   "metadata": {},
   "source": [
    "The next chapter (link to [webpage](chapter_1_rasterio.html) or [Notebook](chapter_1_rasterio.ipynb)) introduces us to some basic scientific computing and raster management."
   ]
  },
  {
   "cell_type": "code",
   "execution_count": null,
   "metadata": {},
   "outputs": [],
   "source": []
  }
 ],
 "metadata": {
  "kernelspec": {
   "display_name": "Python 3",
   "language": "python",
   "name": "python3"
  },
  "language_info": {
   "codemirror_mode": {
    "name": "ipython",
    "version": 3
   },
   "file_extension": ".py",
   "mimetype": "text/x-python",
   "name": "python",
   "nbconvert_exporter": "python",
   "pygments_lexer": "ipython3",
   "version": "3.8.10"
  }
 },
 "nbformat": 4,
 "nbformat_minor": 4
}
